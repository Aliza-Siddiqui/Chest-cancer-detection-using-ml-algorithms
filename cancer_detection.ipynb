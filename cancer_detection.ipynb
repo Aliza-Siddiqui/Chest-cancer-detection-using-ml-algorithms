{
  "nbformat": 4,
  "nbformat_minor": 0,
  "metadata": {
    "colab": {
      "provenance": []
    },
    "kernelspec": {
      "name": "python3",
      "display_name": "Python 3"
    },
    "language_info": {
      "name": "python"
    }
  },
  "cells": [
    {
      "cell_type": "code",
      "execution_count": null,
      "metadata": {
        "id": "EEK3QtZSsf4F"
      },
      "outputs": [],
      "source": [
        "from google.colab import drive\n",
        "drive.mount('/content/drive')"
      ]
    },
    {
      "cell_type": "code",
      "source": [
        "import os\n",
        "import numpy as np\n",
        "import cv2\n",
        "from sklearn.model_selection import train_test_split\n",
        "from sklearn.metrics import accuracy_score\n",
        "from sklearn.linear_model import LogisticRegression\n",
        "from sklearn.svm import SVC\n",
        "from sklearn.ensemble import RandomForestClassifier\n",
        "from sklearn.tree import DecisionTreeClassifier\n",
        "from sklearn.neighbors import KNeighborsClassifier\n",
        "from sklearn.naive_bayes import GaussianNB"
      ],
      "metadata": {
        "id": "H0vnciI_tVU6"
      },
      "execution_count": null,
      "outputs": []
    },
    {
      "cell_type": "code",
      "source": [
        "data_path = '/content/drive/MyDrive/mini_project/chest_xray/train/'\n",
        "\n",
        "categories = ['NORMAL', 'PNEUMONIA']\n",
        "\n",
        "data = []\n",
        "labels = []\n",
        "\n",
        "\n",
        "img_size = 150\n",
        "\n",
        "for category in categories:\n",
        "    path = os.path.join(data_path, category)\n",
        "    class_label = categories.index(category)\n",
        "\n",
        "    for img in os.listdir(path):\n",
        "        try:\n",
        "            img_array = cv2.imread(os.path.join(path, img), cv2.IMREAD_GRAYSCALE)\n",
        "            resized_img = cv2.resize(img_array, (img_size, img_size))\n",
        "            data.append(resized_img)\n",
        "            labels.append(class_label)\n",
        "        except Exception as e:\n",
        "            print(f\"Error loading image {img}: {e}\")\n",
        "\n",
        "\n",
        "data = np.array(data)\n",
        "labels = np.array(labels)\n",
        "\n",
        "\n",
        "data = data / 255.0"
      ],
      "metadata": {
        "id": "yq6XKyHvtdNd"
      },
      "execution_count": null,
      "outputs": []
    },
    {
      "cell_type": "code",
      "source": [
        "data = data.reshape(len(data), -1)"
      ],
      "metadata": {
        "id": "9hx7-XADu5AM"
      },
      "execution_count": null,
      "outputs": []
    },
    {
      "cell_type": "code",
      "source": [
        "X_train, X_test, y_train, y_test = train_test_split(data, labels, test_size=0.2, random_state=42)"
      ],
      "metadata": {
        "id": "F80p2Md1vBh4"
      },
      "execution_count": null,
      "outputs": []
    },
    {
      "cell_type": "code",
      "source": [
        "models = {\n",
        "    'Logistic Regression': LogisticRegression(max_iter=1000),\n",
        "    'Support Vector Machine': SVC(),\n",
        "    'Random Forest': RandomForestClassifier(),\n",
        "    'Decision Tree': DecisionTreeClassifier(),\n",
        "    'K-Nearest Neighbors': KNeighborsClassifier(),\n",
        "    'Naive Bayes': GaussianNB()\n",
        "}"
      ],
      "metadata": {
        "id": "w06CeQe5vEhJ"
      },
      "execution_count": null,
      "outputs": []
    },
    {
      "cell_type": "code",
      "source": [
        "print(\"Select the algorithm you want to use:\")\n",
        "print(\"1. Logistic Regression\")\n",
        "print(\"2. Support Vector Machine (SVM)\")\n",
        "print(\"3. Random Forest Classifier\")\n",
        "print(\"4. Decision Tree Classifier\")\n",
        "print(\"5. K-Nearest Neighbors (KNN)\")\n",
        "print(\"6. Naive Bayes\")\n",
        "print(\"7. Run All Algorithms\")\n",
        "choice = input(\"Enter the number to select the algorithm: \")\n",
        "\n",
        "\n",
        "def run_model(model):\n",
        "    model.fit(X_train, y_train)\n",
        "    y_pred = model.predict(X_test)\n",
        "    accuracy = accuracy_score(y_test, y_pred)\n",
        "    print(f\"Accuracy: {accuracy * 100:.2f}%\")\n",
        "\n",
        "\n",
        "if choice == '1':\n",
        "    print(\"Running Logistic Regression\")\n",
        "    run_model(LogisticRegression())\n",
        "elif choice == '2':\n",
        "    print(\"Running Support Vector Machine (SVM)\")\n",
        "    run_model(SVC())\n",
        "elif choice == '3':\n",
        "    print(\"Running Random Forest Classifier\")\n",
        "    run_model(RandomForestClassifier())\n",
        "elif choice == '4':\n",
        "    print(\"Running Decision Tree Classifier\")\n",
        "    run_model(DecisionTreeClassifier())\n",
        "elif choice == '5':\n",
        "    print(\"Running K-Nearest Neighbors (KNN)\")\n",
        "    run_model(KNeighborsClassifier())\n",
        "elif choice == '6':\n",
        "    print(\"Running Naive Bayes\")\n",
        "    run_model(GaussianNB())\n",
        "elif choice == '7':\n",
        "    print(\"Running all algorithms\")\n",
        "    print(\" Logistic Regression\")\n",
        "    run_model(LogisticRegression())\n",
        "    print(\" Support Vector Machine (SVM)\")\n",
        "    run_model(SVC())\n",
        "    print(\" Random Forest Classifier\")\n",
        "    run_model(RandomForestClassifier())\n",
        "    print(\" Decision Tree Classifier\")\n",
        "    run_model(DecisionTreeClassifier())\n",
        "    print(\" K-Nearest Neighbors (KNN)\")\n",
        "    run_model(KNeighborsClassifier())\n",
        "    print(\" Naive Bayes\")\n",
        "    run_model(GaussianNB())\n",
        "else:\n",
        "    print(\"Invalid choice. Please restart and select a valid option.\")"
      ],
      "metadata": {
        "id": "aCl0hFutvQLb"
      },
      "execution_count": null,
      "outputs": []
    }
  ]
}